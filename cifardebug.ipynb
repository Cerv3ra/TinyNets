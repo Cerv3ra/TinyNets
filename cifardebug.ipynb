{
 "cells": [
  {
   "cell_type": "code",
   "execution_count": 31,
   "metadata": {},
   "outputs": [
    {
     "name": "stdout",
     "output_type": "stream",
     "text": [
      "(50000, 3072)\n",
      "[1030.2646  1022.1686  1022.1686  ...  315.58603  315.58603  319.40884]\n"
     ]
    }
   ],
   "source": [
    "import tinygrad\n",
    "import numpy as np\n",
    "from tinygrad.extra.datasets import fetch_cifar\n",
    "import time\n",
    "\n",
    "start = time.monotonic()\n",
    "X_train, Y_train = fetch_cifar(train=True)\n",
    "X_train = X_train.reshape(50000, -1)\n",
    "print(X_train.shape)\n",
    "print(X_train[2,:])\n",
    "\n"
   ]
  },
  {
   "cell_type": "code",
   "execution_count": 32,
   "metadata": {},
   "outputs": [],
   "source": [
    "from tinygrad.nn import Linear, optim\n",
    "from tinygrad.tensor import Tensor\n",
    "\n",
    "class TiniestCIFAR:\n",
    "    def __init__(self):\n",
    "        self.l1 = Linear(3072, 3072, bias=False)\n",
    "        self.l2 = Linear (3072, 512, bias=False)\n",
    "        self.l3 = Linear(512,10, bias=False)\n",
    "\n",
    "    def __call__(self, x):\n",
    "        x=self.l1(x).leakyrelu()\n",
    "        x=self.l2(x).leakyrelu()\n",
    "        return x.log_softmax()\n",
    "    \n",
    "net = TiniestCIFAR()\n"
   ]
  },
  {
   "cell_type": "code",
   "execution_count": 35,
   "metadata": {},
   "outputs": [],
   "source": [
    "from tinygrad.nn.optim import SGD\n",
    "opt = SGD([net.l1.weight, net.l2.weight], lr=3e-4)\n",
    "from extra.training import sparse_categorical_crossentropy\n",
    "\n",
    "\n",
    "def cross_entropy(out, Y):\n",
    "  num_classes = out.shape[-1]\n",
    "  YY = Y.flatten().astype(np.int32)\n",
    "  y = np.zeros((YY.shape[0], num_classes), np.float32)\n",
    "  y[range(y.shape[0]),YY] = -1.0*num_classes\n",
    "  y = y.reshape(list(Y.shape)+[num_classes])\n",
    "  y = Tensor(y)\n",
    "  return out.mul(y).mean()"
   ]
  },
  {
   "cell_type": "code",
   "execution_count": 49,
   "metadata": {},
   "outputs": [
    {
     "name": "stdout",
     "output_type": "stream",
     "text": [
      "[[-2.16672500e+04 -9.75807500e+04 -2.81981000e+05 ... -1.30394344e+08\n",
      "  -1.28366750e+05 -2.00229580e+07]\n",
      " [-6.65920000e+05 -5.83253750e+05 -7.80757000e+05 ... -7.70481200e+07\n",
      "  -7.52712750e+05 -1.24046540e+07]\n",
      " [-8.25180000e+04 -5.09902000e+05  0.00000000e+00 ... -5.32649320e+07\n",
      "  -3.50760250e+05 -8.43354600e+06]\n",
      " [-1.39162000e+05 -1.46896750e+05 -3.53686000e+05 ... -7.47527120e+07\n",
      "  -1.79480250e+05 -1.15683230e+07]\n",
      " [-2.56251000e+05 -5.27521375e+05 -2.26377375e+05 ... -6.70873960e+07\n",
      "  -5.53306000e+05 -1.07157570e+07]]\n",
      "[8 9 2 5 9]\n",
      "step0 | Loss: 641617.375 | Accuracy: 0.0\n",
      "[[-2.82252250e+05  0.00000000e+00 -2.88326250e+05 ... -9.29222560e+07\n",
      "  -2.90263000e+05 -1.44368230e+07]\n",
      " [-1.82451750e+05 -7.46698750e+04 -1.04624500e+05 ... -5.67318160e+07\n",
      "  -2.07165875e+05 -8.83959100e+06]\n",
      " [-3.34326875e+05 -8.34433750e+04 -3.47758500e+05 ... -5.78031120e+07\n",
      "  -2.54673375e+05 -9.04291300e+06]\n",
      " [-7.54928750e+04 -8.99122500e+04  0.00000000e+00 ... -5.02520520e+07\n",
      "  -1.54905750e+05 -7.80617900e+06]\n",
      " [-3.18551000e+05  0.00000000e+00 -3.40004000e+05 ... -1.13852104e+08\n",
      "  -3.18722500e+05 -1.76573220e+07]]\n",
      "[1 6 3 2 1]\n",
      "[[        0.     -887598.75   -711994.25 ... -96860480.     -638970.5\n",
      "  -15333848.  ]\n",
      " [        0.     -442519.25   -329181.12 ... -48858624.     -263995.75\n",
      "   -7685154.5 ]\n",
      " [  -373833.9    -379052.1    -572647.4  ... -20159220.     -384788.66\n",
      "   -3403970.  ]\n",
      " [        0.     -929289.6    -536897.4  ... -84696704.     -560963.1\n",
      "  -13410468.  ]\n",
      " [        0.     -791208.9    -200808.12 ... -59874992.     -568219.6\n",
      "   -9626607.  ]]\n",
      "[0 0 3 0 0]\n",
      "[[-3.8581925e+05 -5.6268425e+05  0.0000000e+00 ... -8.7818744e+07\n",
      "  -3.9748375e+05 -1.3749554e+07]\n",
      " [-3.2231850e+05 -4.1615225e+05  0.0000000e+00 ... -6.4414748e+07\n",
      "  -2.9076712e+05 -1.0084302e+07]\n",
      " [-6.1878950e+05 -5.1124725e+05 -2.5191625e+05 ... -1.1489915e+08\n",
      "  -3.8420325e+05 -1.7872776e+07]\n",
      " [-4.9525825e+05 -5.3618850e+05 -1.0857675e+05 ... -9.0624864e+07\n",
      "  -4.7332025e+05 -1.4241860e+07]\n",
      " [-4.0287200e+05 -2.9719425e+05 -2.2833300e+05 ... -6.7945824e+07\n",
      "  -2.3589100e+05 -1.0576380e+07]]\n",
      "[2 2 7 9 7]\n",
      "[[-7.2001581e+05 -4.0793219e+05 -9.9139606e+05 ... -3.8606580e+07\n",
      "  -5.5719231e+05 -6.3668110e+06]\n",
      " [-9.4959062e+05 -6.3816438e+05 -1.4925761e+06 ... -7.9699784e+07\n",
      "  -7.5314762e+05 -1.2808220e+07]\n",
      " [-2.2845288e+05 -1.4978312e+05 -3.4860462e+05 ... -3.1383700e+07\n",
      "  -2.1146656e+05 -4.9717205e+06]\n",
      " [-6.8566250e+04 -4.0132425e+05 -2.7339212e+05 ... -6.1999428e+07\n",
      "  -2.9963975e+05 -9.7234170e+06]\n",
      " [-2.9891888e+05 -3.4779012e+05 -5.5649812e+05 ... -8.0014800e+07\n",
      "  -5.2828462e+05 -1.2667844e+07]]\n",
      "[3 3 5 6 9]\n"
     ]
    }
   ],
   "source": [
    "#run the model\n",
    "BS=5\n",
    "for step in range (5):\n",
    "    samp = np.random.randint(0, X_train.shape[0], BS)\n",
    "    batch = Tensor(X_train[samp], requires_grad=False)\n",
    "    labels = Y_train[samp]\n",
    "    out = net(batch)\n",
    "    print(out.numpy())\n",
    "\n",
    "    loss = cross_entropy(out, labels)\n",
    "    opt.zero_grad()\n",
    "    loss.backward()\n",
    "    opt.step()\n",
    "\n",
    "    pred = np.argmax(out.numpy(), axis=-1)\n",
    "    print(pred)\n",
    "    acc = (pred == labels).mean()\n",
    "    #print (acc)\n",
    "    if step % 100 == 0:\n",
    "        print(f'step{step} | Loss: {loss.numpy()} | Accuracy: {acc}')    \n",
    "\n"
   ]
  },
  {
   "cell_type": "code",
   "execution_count": null,
   "metadata": {},
   "outputs": [],
   "source": []
  }
 ],
 "metadata": {
  "kernelspec": {
   "display_name": "venv",
   "language": "python",
   "name": "python3"
  },
  "language_info": {
   "codemirror_mode": {
    "name": "ipython",
    "version": 3
   },
   "file_extension": ".py",
   "mimetype": "text/x-python",
   "name": "python",
   "nbconvert_exporter": "python",
   "pygments_lexer": "ipython3",
   "version": "3.10.6"
  },
  "orig_nbformat": 4
 },
 "nbformat": 4,
 "nbformat_minor": 2
}
