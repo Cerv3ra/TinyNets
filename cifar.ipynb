{
 "cells": [
  {
   "cell_type": "code",
   "execution_count": 1,
   "metadata": {},
   "outputs": [],
   "source": [
    "import numpy as np\n",
    "import tinygrad \n",
    "from extra.datasets import fetch_cifar\n",
    "import time\n",
    "import cv2\n",
    "start =time.monotonic()\n",
    "X_train, Y_train = fetch_cifar(train=True)"
   ]
  },
  {
   "cell_type": "code",
   "execution_count": 6,
   "metadata": {},
   "outputs": [],
   "source": [
    "from tinygrad.nn import Linear\n",
    "from tinygrad.nn import optim\n",
    "from tinygrad.tensor import Tensor\n",
    "\n",
    "class TinyCIFAR:\n",
    "    def __init__ (self):\n",
    "        self.l1 = Linear(32,1024, bias=True)\n",
    "        self.l2 = Linear(1024,1024,bias=True)\n",
    "        self.l3 = Linear(1024,10, bias=True)\n",
    "\n",
    "    def __call__ (self, x):\n",
    "        x = self.l1(x)\n",
    "        x = x.leakyrelu()\n",
    "        x = self.l2(x)\n",
    "        x = x.leakyrelu()\n",
    "        x = self.l3(x)\n",
    "        return x.log_softmax()"
   ]
  },
  {
   "cell_type": "code",
   "execution_count": 11,
   "metadata": {},
   "outputs": [
    {
     "name": "stdout",
     "output_type": "stream",
     "text": [
      "50000\n"
     ]
    },
    {
     "ename": "AssertionError",
     "evalue": "",
     "output_type": "error",
     "traceback": [
      "\u001b[0;31m---------------------------------------------------------------------------\u001b[0m",
      "\u001b[0;31mAssertionError\u001b[0m                            Traceback (most recent call last)",
      "Cell \u001b[0;32mIn[11], line 17\u001b[0m\n\u001b[1;32m     15\u001b[0m opt\u001b[39m.\u001b[39mzero_grad()\n\u001b[1;32m     16\u001b[0m loss\u001b[39m.\u001b[39mbackward()\n\u001b[0;32m---> 17\u001b[0m opt\u001b[39m.\u001b[39;49mstep()\n",
      "File \u001b[0;32m~/fun/TinyNets/venv/lib/tinygrad/tinygrad/nn/optim.py:56\u001b[0m, in \u001b[0;36mLAMB.step\u001b[0;34m(self)\u001b[0m\n\u001b[1;32m     54\u001b[0m \u001b[39mself\u001b[39m\u001b[39m.\u001b[39mt\u001b[39m.\u001b[39massign(\u001b[39mself\u001b[39m\u001b[39m.\u001b[39mt \u001b[39m+\u001b[39m \u001b[39m1\u001b[39m)\u001b[39m.\u001b[39mrealize()\n\u001b[1;32m     55\u001b[0m \u001b[39mfor\u001b[39;00m i, t \u001b[39min\u001b[39;00m \u001b[39menumerate\u001b[39m(\u001b[39mself\u001b[39m\u001b[39m.\u001b[39mparams):\n\u001b[0;32m---> 56\u001b[0m   \u001b[39massert\u001b[39;00m t\u001b[39m.\u001b[39mgrad \u001b[39mis\u001b[39;00m \u001b[39mnot\u001b[39;00m \u001b[39mNone\u001b[39;00m\n\u001b[1;32m     57\u001b[0m   g \u001b[39m=\u001b[39m t\u001b[39m.\u001b[39mgrad\u001b[39m.\u001b[39mrealize()\n\u001b[1;32m     58\u001b[0m   \u001b[39mself\u001b[39m\u001b[39m.\u001b[39mm[i]\u001b[39m.\u001b[39massign(\u001b[39mself\u001b[39m\u001b[39m.\u001b[39mb1 \u001b[39m*\u001b[39m \u001b[39mself\u001b[39m\u001b[39m.\u001b[39mm[i] \u001b[39m+\u001b[39m (\u001b[39m1.0\u001b[39m \u001b[39m-\u001b[39m \u001b[39mself\u001b[39m\u001b[39m.\u001b[39mb1) \u001b[39m*\u001b[39m g)\u001b[39m.\u001b[39mrealize()\n",
      "\u001b[0;31mAssertionError\u001b[0m: "
     ]
    }
   ],
   "source": [
    "from extra.training import sparse_categorical_crossentropy\n",
    "opt = optim.Adam([net.l1.weight, net.l2.weight, net.l3.weight))\n",
    "\n",
    "net = TinyCIFAR()\n",
    "\n",
    "Tensor.training= True\n",
    "\n",
    "BS= 32\n",
    "\n",
    "#run the modelieren\n",
    "\n",
    "for step in range(100):\n",
    "    samp=np.random.randint(0, X_train.shape[0], size=BS)\n",
    "    batch = Tensor(X_train[samp], requires_grad=True)\n",
    "    labels = Y_train[samp]\n",
    "    out = net(batch)\n",
    "    loss = sparse_categorical_crossentropy(out,labels)\n",
    "    opt.zero_grad()\n",
    "    loss.backward()\n",
    "    opt.step()\n"
   ]
  },
  {
   "cell_type": "code",
   "execution_count": null,
   "metadata": {},
   "outputs": [],
   "source": []
  }
 ],
 "metadata": {
  "kernelspec": {
   "display_name": "venv",
   "language": "python",
   "name": "python3"
  },
  "language_info": {
   "codemirror_mode": {
    "name": "ipython",
    "version": 3
   },
   "file_extension": ".py",
   "mimetype": "text/x-python",
   "name": "python",
   "nbconvert_exporter": "python",
   "pygments_lexer": "ipython3",
   "version": "3.10.6"
  },
  "orig_nbformat": 4
 },
 "nbformat": 4,
 "nbformat_minor": 2
}
