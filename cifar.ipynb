{
 "cells": [
  {
   "cell_type": "code",
   "execution_count": 11,
   "metadata": {},
   "outputs": [],
   "source": [
    "import numpy as np\n",
    "import tinygrad \n",
    "from extra.datasets import fetch_cifar\n",
    "import time\n",
    "import cv2\n",
    "start =time.monotonic()\n",
    "X_train, Y_train,= fetch_cifar(train=True)"
   ]
  },
  {
   "cell_type": "code",
   "execution_count": 12,
   "metadata": {},
   "outputs": [],
   "source": [
    "from tinygrad.nn import Linear\n",
    "from tinygrad.nn import optim\n",
    "from tinygrad.tensor import Tensor\n",
    "\n",
    "class TinyCIFAR:\n",
    "    def __init__ (self):\n",
    "        self.l1 = Linear(3072,1024, bias=True)\n",
    "        self.l2 = Linear(1024,1024,bias=True)\n",
    "        self.l3 = Linear(1024,10, bias=True)\n",
    "\n",
    "    def __call__ (self, x):\n",
    "        x = self.l1(x)\n",
    "        x = x.leakyrelu()\n",
    "        x = self.l2(x)\n",
    "        x = x.leakyrelu()\n",
    "        x = self.l3(x)\n",
    "        return x.log_softmax()\n",
    "    \n",
    "net = TinyCIFAR()"
   ]
  },
  {
   "cell_type": "code",
   "execution_count": 13,
   "metadata": {},
   "outputs": [
    {
     "name": "stdout",
     "output_type": "stream",
     "text": [
      "(50000, 3, 32, 32)\n",
      "(50000, 3072)\n"
     ]
    }
   ],
   "source": [
    "print(X_train.shape)\n",
    "X_trains = X_train.reshape(50000, -1)\n",
    "print(X_trains.shape)\n",
    "Tensor.training= True\n",
    "\n",
    "from tinygrad.nn.optim import SGD, Adam\n",
    "opt = Adam([net.l1.weight, net.l2.weight, net.l3.weight], lr=3e-4)\n",
    "\n",
    "def cross_entropy(out, Y):\n",
    "  num_classes = out.shape[-1]\n",
    "  YY = Y.flatten().astype(np.int32)\n",
    "  y = np.zeros((YY.shape[0], num_classes), np.float32)\n",
    "  y[range(y.shape[0]),YY] = -1.0*num_classes\n",
    "  y = y.reshape(list(Y.shape)+[num_classes])\n",
    "  y = Tensor(y)\n",
    "  return out.mul(y).mean()"
   ]
  },
  {
   "cell_type": "code",
   "execution_count": 14,
   "metadata": {},
   "outputs": [
    {
     "name": "stdout",
     "output_type": "stream",
     "text": [
      "step0 | loss: 118.45318603515625 | Accuracy: 0.109375\n",
      "step100 | loss: 9.610190391540527 | Accuracy: 0.109375\n",
      "step200 | loss: 3.1440982818603516 | Accuracy: 0.109375\n",
      "step300 | loss: 2.9679391384124756 | Accuracy: 0.09375\n",
      "step400 | loss: 2.920276165008545 | Accuracy: 0.046875\n",
      "step500 | loss: 2.7494921684265137 | Accuracy: 0.109375\n",
      "step600 | loss: 2.5133960247039795 | Accuracy: 0.109375\n",
      "step700 | loss: 2.490748167037964 | Accuracy: 0.015625\n",
      "step800 | loss: 2.4445998668670654 | Accuracy: 0.078125\n",
      "step900 | loss: 2.4531660079956055 | Accuracy: 0.09375\n",
      "step1000 | loss: 2.3521833419799805 | Accuracy: 0.125\n"
     ]
    }
   ],
   "source": [
    "\n",
    "\n",
    "\n",
    "BS=64\n",
    "\n",
    "#Train the modelieren\n",
    "\n",
    "for step in range(1001):\n",
    "    samp=np.random.randint(0, X_trains.shape[0], BS)\n",
    "    batch = Tensor(X_trains[0], requires_grad=True)\n",
    "    labels = Y_train[samp]\n",
    "    out = net(batch)\n",
    "    loss = cross_entropy(out, labels)\n",
    "    #print(loss.numpy())\n",
    "    opt.zero_grad() #NOTE:I'm unsure why it's giving me t.grad is not None (it was array shaping)\n",
    "    loss.backward()\n",
    "    opt.step()\n",
    "    #accuracy dealings\n",
    "    pred = np.argmax(out.numpy(), axis=-1)\n",
    "    acc = (pred == labels).mean()\n",
    "    # if acc >= 1:\n",
    "    #     break\n",
    "    if step % 100 == 0:\n",
    "        print(f'step{step} | loss: {loss.numpy()} | Accuracy: {acc}')\n",
    "\n"
   ]
  },
  {
   "cell_type": "code",
   "execution_count": 26,
   "metadata": {},
   "outputs": [
    {
     "name": "stdout",
     "output_type": "stream",
     "text": [
      "(10000, 3, 32, 32) (10000,)\n",
      "(10000, 3072)\n",
      "Test Accuracy: 0.095\n"
     ]
    }
   ],
   "source": [
    "#Validate model\n",
    "X_test, Y_test= fetch_cifar(train=False)\n",
    "print(X_test.shape, Y_test.shape)\n",
    "av_acc = 0 #loopy fucks up without this\n",
    "X_tests = X_test.reshape(10000, -1)\n",
    "print(X_tests.shape)\n",
    "testamount = 100\n",
    "for step in range(testamount):\n",
    "    samp = np.random.randint(0, X_tests.shape[0], size=BS)\n",
    "    batch = Tensor(X_tests[samp], requires_grad=True)\n",
    "    labels = Y_test[samp]\n",
    "    out = net (batch)\n",
    "\n",
    "    pred = np.argmax(out.numpy(), axis=-1)\n",
    "    av_acc += (pred == labels).mean()\n",
    "    # print(out.numpy())\n",
    "    # #print(np.argmax(out.numpy()))\n",
    "    # print(Y_test[samp])\n",
    "    # #print(batch.numpy())\n",
    "\n",
    "print(f\"Test Accuracy: {av_acc / testamount}\")"
   ]
  },
  {
   "cell_type": "code",
   "execution_count": null,
   "metadata": {},
   "outputs": [],
   "source": []
  }
 ],
 "metadata": {
  "kernelspec": {
   "display_name": "venv",
   "language": "python",
   "name": "python3"
  },
  "language_info": {
   "codemirror_mode": {
    "name": "ipython",
    "version": 3
   },
   "file_extension": ".py",
   "mimetype": "text/x-python",
   "name": "python",
   "nbconvert_exporter": "python",
   "pygments_lexer": "ipython3",
   "version": "3.10.6"
  },
  "orig_nbformat": 4
 },
 "nbformat": 4,
 "nbformat_minor": 2
}
