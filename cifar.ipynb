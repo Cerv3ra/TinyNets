{
 "cells": [
  {
   "cell_type": "code",
   "execution_count": 1,
   "metadata": {},
   "outputs": [],
   "source": [
    "import numpy as np\n",
    "import tinygrad \n",
    "from tinygrad.extra.datasets import fetch_cifar\n",
    "import time\n",
    "from tinygrad.lazy import Device\n",
    "Device.DEFAULT = \"CUDA\"\n",
    "\n",
    "import cv2\n",
    "start =time.monotonic()\n",
    "X_train, Y_train,= fetch_cifar(train=True)"
   ]
  },
  {
   "cell_type": "code",
   "execution_count": 2,
   "metadata": {},
   "outputs": [],
   "source": [
    "from tinygrad.nn import Linear, Conv2d\n",
    "from tinygrad.nn import optim\n",
    "from tinygrad.tensor import Tensor\n",
    "Tensor.training= True\n",
    "\n",
    "class TinyCIFAR:\n",
    "    def __init__ (self):\n",
    "        self.l1 = Linear(3072,15360, bias=True)\n",
    "        self.l2 = Linear(15360,255,bias=True)\n",
    "        self.l3 = Linear(255,10,bias=True)\n",
    "    def __call__ (self, x):\n",
    "        x = self.l1(x)\n",
    "        x = x.leakyrelu()\n",
    "        x = self.l2(x)\n",
    "        x = x.leakyrelu()\n",
    "        x = self.l3(x)\n",
    "        return x.log_softmax()\n",
    "    #here lies the buggers\n",
    "    #maybe a dense just doesnt learn CIFAR? \n",
    "    \n",
    "net = TinyCIFAR()"
   ]
  },
  {
   "cell_type": "code",
   "execution_count": 3,
   "metadata": {},
   "outputs": [
    {
     "name": "stdout",
     "output_type": "stream",
     "text": [
      "(50000, 3, 32, 32)\n",
      "(50000, 3072)\n"
     ]
    }
   ],
   "source": [
    "print(X_train.shape)\n",
    "X_trains = X_train.reshape(50000, -1)\n",
    "print(X_trains.shape)\n",
    "from tinygrad.nn.optim import SGD, Adam\n",
    "opt = SGD([net.l1.weight, net.l2.weight, net.l3.weight], lr=3e-3)\n",
    "\n",
    "def cross_entropy(out, Y):\n",
    "  num_classes = out.shape[-1]\n",
    "  YY = Y.flatten().astype(np.int32)\n",
    "  y = np.zeros((YY.shape[0], num_classes), np.float32)\n",
    "  y[range(y.shape[0]),YY] = -1.0*num_classes\n",
    "  y = y.reshape(list(Y.shape)+[num_classes])\n",
    "  y = Tensor(y)\n",
    "  return out.mul(y).mean()\n",
    "\n",
    "# print(Y_train.shape)\n",
    "# print(X_trains[5,:].max())\n",
    "# X_trains = np.divide(X_trains, 256)\n",
    "# print(X_trains[:,:].max())\n"
   ]
  },
  {
   "cell_type": "code",
   "execution_count": 4,
   "metadata": {},
   "outputs": [
    {
     "name": "stdout",
     "output_type": "stream",
     "text": [
      "step0 | loss: 53.54902267456055 | Accuracy: 0.125\n",
      "step25 | loss: nan | Accuracy: 0.09375\n",
      "step50 | loss: nan | Accuracy: 0.125\n",
      "step75 | loss: nan | Accuracy: 0.0625\n",
      "step100 | loss: nan | Accuracy: 0.0625\n",
      "step125 | loss: nan | Accuracy: 0.125\n",
      "step150 | loss: nan | Accuracy: 0.03125\n",
      "step175 | loss: nan | Accuracy: 0.125\n",
      "step200 | loss: nan | Accuracy: 0.09375\n",
      "step225 | loss: nan | Accuracy: 0.09375\n",
      "step250 | loss: nan | Accuracy: 0.03125\n",
      "step275 | loss: nan | Accuracy: 0.15625\n",
      "step300 | loss: nan | Accuracy: 0.09375\n",
      "step325 | loss: nan | Accuracy: 0.03125\n",
      "step350 | loss: nan | Accuracy: 0.1875\n",
      "step375 | loss: nan | Accuracy: 0.1875\n",
      "step400 | loss: nan | Accuracy: 0.125\n",
      "step425 | loss: nan | Accuracy: 0.03125\n",
      "step450 | loss: nan | Accuracy: 0.15625\n",
      "step475 | loss: nan | Accuracy: 0.03125\n",
      "step500 | loss: nan | Accuracy: 0.09375\n",
      "step525 | loss: nan | Accuracy: 0.09375\n",
      "step550 | loss: nan | Accuracy: 0.125\n",
      "step575 | loss: nan | Accuracy: 0.15625\n",
      "step600 | loss: nan | Accuracy: 0.21875\n",
      "step625 | loss: nan | Accuracy: 0.0625\n",
      "step650 | loss: nan | Accuracy: 0.0\n",
      "step675 | loss: nan | Accuracy: 0.0625\n",
      "step700 | loss: nan | Accuracy: 0.125\n",
      "step725 | loss: nan | Accuracy: 0.03125\n",
      "step750 | loss: nan | Accuracy: 0.125\n",
      "step775 | loss: nan | Accuracy: 0.15625\n",
      "step800 | loss: nan | Accuracy: 0.125\n",
      "Training but not learning\n",
      "11.2s\n"
     ]
    }
   ],
   "source": [
    "\n",
    "\n",
    "\n",
    "\n",
    "BS=32\n",
    "\n",
    "#Train the modelieren\n",
    "\n",
    "for step in range(12000):\n",
    "    samp=np.random.randint(0, X_trains.shape[0], BS)\n",
    "    batch = Tensor(X_trains[0], requires_grad=True)\n",
    "    labels = Y_train[samp]\n",
    "    out = net(batch)\n",
    "    loss = cross_entropy(out, labels)\n",
    "    #print(loss.numpy())\n",
    "    opt.zero_grad() #NOTE:I'm unsure why it's giving me t.grad is not None (it was array shaping)\n",
    "    loss.backward()\n",
    "    opt.step()\n",
    "    #accuracy dealings\n",
    "    pred = np.argmax(out.numpy(), axis=-1)\n",
    "    acc = (pred == labels).mean()\n",
    "    # if acc >= 1: #how optimistic of myself\n",
    "    #     break\n",
    "    if step % 25 == 0:\n",
    "        print(f'step{step} | loss: {loss.numpy()} | Accuracy: {acc}')\n",
    "    if step == 2000: \n",
    "        if acc < 0.25:\n",
    "            print('Training but not learning')\n",
    "            break\n",
    "\n",
    "\n",
    "end=time.monotonic()\n",
    "print(f'{end-start:.3}s')\n",
    "\n"
   ]
  },
  {
   "cell_type": "code",
   "execution_count": 5,
   "metadata": {},
   "outputs": [
    {
     "name": "stdout",
     "output_type": "stream",
     "text": [
      "(10000, 3, 32, 32) (10000,)\n",
      "(10000, 3072)\n",
      "Test Accuracy: 0.09125\n"
     ]
    }
   ],
   "source": [
    "#Validate model\n",
    "X_test, Y_test= fetch_cifar(train=False)\n",
    "print(X_test.shape, Y_test.shape)\n",
    "av_acc = 0 #loopy fucks up without this\n",
    "X_tests = X_test.reshape(10000, -1)\n",
    "print(X_tests.shape)\n",
    "testamount = 100\n",
    "for step in range(testamount):\n",
    "    samp = np.random.randint(0, X_tests.shape[0], size=BS)\n",
    "    batch = Tensor(X_tests[samp], requires_grad=True)\n",
    "    labels = Y_test[samp]\n",
    "    out = net (batch)\n",
    "\n",
    "    pred = np.argmax(out.numpy(), axis=-1)\n",
    "    av_acc += (pred == labels).mean()\n",
    "    # print(out.numpy())\n",
    "    # #print(np.argmax(out.numpy()))\n",
    "    # print(Y_test[samp])\n",
    "    # #print(batch.numpy())\n",
    "\n",
    "print(f\"Test Accuracy: {av_acc / testamount}\")"
   ]
  },
  {
   "cell_type": "code",
   "execution_count": null,
   "metadata": {},
   "outputs": [],
   "source": []
  }
 ],
 "metadata": {
  "kernelspec": {
   "display_name": "venv",
   "language": "python",
   "name": "python3"
  },
  "language_info": {
   "codemirror_mode": {
    "name": "ipython",
    "version": 3
   },
   "file_extension": ".py",
   "mimetype": "text/x-python",
   "name": "python",
   "nbconvert_exporter": "python",
   "pygments_lexer": "ipython3",
   "version": "3.10.6"
  },
  "orig_nbformat": 4
 },
 "nbformat": 4,
 "nbformat_minor": 2
}
