{
 "cells": [
  {
   "cell_type": "code",
   "execution_count": 1,
   "metadata": {},
   "outputs": [
    {
     "name": "stdout",
     "output_type": "stream",
     "text": [
      "[[ 2.  2.  2.]\n",
      " [ 0.  0.  0.]\n",
      " [-2. -2. -2.]]\n",
      "[[1. 1. 1.]]\n"
     ]
    }
   ],
   "source": [
    "from tinygrad.tensor import Tensor\n",
    "\n",
    "x = Tensor.eye(3, requires_grad=True)\n",
    "y = Tensor([[2.0,0,-2.0]], requires_grad=True)\n",
    "z = y.matmul(x).sum()\n",
    "z.backward()\n",
    "\n",
    "print(x.grad.numpy())  # dz/dx\n",
    "print(y.grad.numpy())  # dz/dy"
   ]
  }
 ],
 "metadata": {
  "kernelspec": {
   "display_name": "Python 3",
   "language": "python",
   "name": "python3"
  },
  "language_info": {
   "codemirror_mode": {
    "name": "ipython",
    "version": 3
   },
   "file_extension": ".py",
   "mimetype": "text/x-python",
   "name": "python",
   "nbconvert_exporter": "python",
   "pygments_lexer": "ipython3",
   "version": "3.10.6"
  },
  "orig_nbformat": 4
 },
 "nbformat": 4,
 "nbformat_minor": 2
}
